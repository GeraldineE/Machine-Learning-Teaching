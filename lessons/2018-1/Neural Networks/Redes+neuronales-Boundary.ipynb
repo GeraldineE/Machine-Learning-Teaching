{
 "cells": [
  {
   "cell_type": "code",
   "execution_count": 3,
   "metadata": {},
   "outputs": [
    {
     "data": {
      "text/plain": [
       "<matplotlib.figure.Figure at 0x1e5640dac88>"
      ]
     },
     "metadata": {},
     "output_type": "display_data"
    }
   ],
   "source": [
    "import numpy as np\n",
    "import matplotlib.pyplot as plt\n",
    "from sklearn import datasets\n",
    "\n",
    "n_samples = 1500\n",
    "noisy_moons = datasets.make_moons(n_samples=n_samples, noise=.05)\n",
    "\n",
    "X= noisy_moons[0]\n",
    "y= noisy_moons[1]\n",
    "\n",
    "X[:,0] = 20*X[:,0]\n",
    "\n",
    "plt.plot(X[:,0], X[:,1], 'x')\n",
    "plt.show()"
   ]
  },
  {
   "cell_type": "code",
   "execution_count": 6,
   "metadata": {},
   "outputs": [],
   "source": [
    "def sigmoid(x):\n",
    "    return 1/(1+np.exp(-x))\n",
    "\n",
    "def d_sigmoid(x):\n",
    "    return sigmoid(x)*(1-sigmoid(x))\n",
    "\n",
    "def RedNeuronal(X,y,alpha,epochs): \n",
    "    w_1 = np.random.rand(2,X.shape[1]+1) #2 Neuronas de la capa siguiente, y en la capa actual el numero de features mas el bias\n",
    "    w_2 = np.random.rand(2,2+1) #2 Neuronas de la capa siguiente, y en la capa actual el numero de neuronas mas el bias\n",
    "    w_3 = np.random.rand(2,2+1) #2 Neuronas (2 clases) de la capa de salida, y en la capa actual el numero de neuronas mas el bias\n",
    "    \n",
    "    \n",
    "\n",
    "    for j in range(0,epochs):\n",
    "        J = 0\n",
    "        for i in range(0,X.shape[0]):\n",
    "            \n",
    "            #One hot encoding\n",
    "            Y = np.zeros(shape=(2,1))\n",
    "            Y[y[i]] = 1\n",
    "\n",
    "            #Forward\n",
    "            #Para cada muestra\n",
    "            a_1 = X[i,None].T\n",
    "            #Se agrega el bias de la capa entrada\n",
    "            a_1 = np.insert(a_1, 0, 1,axis=0) \n",
    "            z_1 = np.dot(w_1,a_1)\n",
    "            a_2 = sigmoid(z_1)\n",
    "            #Se agrega el bias de la otra capa\n",
    "            a_2 = np.insert(a_2, 0, 1,axis=0) \n",
    "            z_2 = np.dot(w_2,a_2)\n",
    "            a_3 = sigmoid(z_2)\n",
    "            #Se agrega el bias de la otra capa\n",
    "            a_3 = np.insert(a_3, 0, 1,axis=0)\n",
    "            z_3 = np.dot(w_3,a_3)\n",
    "            a_4 = sigmoid(z_3)\n",
    "\n",
    "            #Backward\n",
    "            J = J + np.dot((Y-a_4).T,(Y-a_4))\n",
    "            d_4 = (Y-a_4)*d_sigmoid(z_3)\n",
    "\n",
    "            d_3 = np.dot(w_3.T,d_4)\n",
    "            d_3 = np.delete(d_3, 0,axis=0) #Remove d_0\n",
    "            d_3 = d_3*d_sigmoid(z_2)\n",
    "\n",
    "            d_2 = np.dot(w_2.T,d_3)\n",
    "            d_2 = np.delete(d_2, 0,axis=0) #Remove d_0\n",
    "            d_2 = d_2*d_sigmoid(z_1)\n",
    "\n",
    "            DE_dw_3 = -np.dot(d_4,a_3.T)\n",
    "            DE_dw_2 = -np.dot(d_3,a_2.T)\n",
    "            DE_dw_1 = -np.dot(d_2,a_1.T)\n",
    "\n",
    "            w_3 = w_3 - alpha*DE_dw_3\n",
    "            w_2 = w_2 - alpha*DE_dw_2\n",
    "            w_1 = w_1 - alpha*DE_dw_1\n",
    "\n",
    "        print(J/2)\n",
    "    return [w_1,w_2,w_3]\n",
    "\n",
    "def Predict(X,w_1,w_2,w_3): \n",
    "    #Forward\n",
    "    #Para cada muestra\n",
    "    a_1 = X[:,None]\n",
    "    #Se agrega el bias de la capa entrada\n",
    "    a_1 = np.insert(a_1, 0, 1,axis=0) \n",
    "    z_1 = np.dot(w_1,a_1)\n",
    "    a_2 = sigmoid(z_1)\n",
    "    #Se agrega el bias de la otra capa\n",
    "    a_2 = np.insert(a_2, 0, 1,axis=0) \n",
    "    z_2 = np.dot(w_2,a_2)\n",
    "    a_3 = sigmoid(z_2)\n",
    "    #Se agrega el bias de la otra capa\n",
    "    a_3 = np.insert(a_3, 0, 1,axis=0)\n",
    "    z_3 = np.dot(w_3,a_3)\n",
    "    a_4 = sigmoid(z_3)\n",
    "    return a_4"
   ]
  },
  {
   "cell_type": "code",
   "execution_count": 7,
   "metadata": {},
   "outputs": [
    {
     "name": "stdout",
     "output_type": "stream",
     "text": [
      "[[380.58245178]]\n",
      "[[336.20024423]]\n",
      "[[293.09770091]]\n",
      "[[275.64721183]]\n",
      "[[269.45419746]]\n",
      "[[266.17370688]]\n",
      "[[263.94151591]]\n",
      "[[262.10596521]]\n",
      "[[260.03174093]]\n",
      "[[251.72807142]]\n",
      "[[227.23397052]]\n",
      "[[217.29449381]]\n",
      "[[204.04100401]]\n",
      "[[200.51342201]]\n",
      "[[192.743827]]\n",
      "[[191.52485472]]\n",
      "[[193.34681426]]\n",
      "[[184.9453803]]\n",
      "[[178.15757629]]\n",
      "[[180.11163506]]\n"
     ]
    }
   ],
   "source": [
    "[w1,w2,w3] = RedNeuronal(X,y,alpha=0.1,epochs=20)"
   ]
  },
  {
   "cell_type": "code",
   "execution_count": 82,
   "metadata": {
    "collapsed": true
   },
   "outputs": [],
   "source": [
    "predicted = list()\n",
    "for i in range(0,X.shape[0]):\n",
    "    predicted.append(np.argmax(Predict(X[i],w1,w2,w3)))"
   ]
  },
  {
   "cell_type": "markdown",
   "metadata": {},
   "source": [
    "# Este es el rendimiento del entrenamiento sin estandizar los datos"
   ]
  },
  {
   "cell_type": "code",
   "execution_count": 83,
   "metadata": {},
   "outputs": [
    {
     "name": "stdout",
     "output_type": "stream",
     "text": [
      "0.742\n"
     ]
    }
   ],
   "source": [
    "Accuracy = np.sum(np.array(predicted) == y)/X.shape[0]\n",
    "print(Accuracy)"
   ]
  },
  {
   "cell_type": "markdown",
   "metadata": {
    "collapsed": true
   },
   "source": [
    "# Estandarizando con Min-Max\n",
    "$$X_{norm} = \\frac{X-\\min(X)}{\\max(X)-\\min(X)}$$"
   ]
  },
  {
   "cell_type": "code",
   "execution_count": 84,
   "metadata": {},
   "outputs": [
    {
     "name": "stdout",
     "output_type": "stream",
     "text": [
      "[[ 401.36860428]]\n",
      "[[ 377.68187363]]\n",
      "[[ 377.04025329]]\n",
      "[[ 376.49063628]]\n",
      "[[ 375.53823325]]\n",
      "[[ 372.89992426]]\n",
      "[[ 360.95060436]]\n",
      "[[ 292.01604602]]\n",
      "[[ 181.79599849]]\n",
      "[[ 145.82708695]]\n",
      "[[ 135.13985497]]\n",
      "[[ 130.82105336]]\n",
      "[[ 128.93955794]]\n",
      "[[ 128.07203429]]\n",
      "[[ 127.63419616]]\n",
      "[[ 127.38291607]]\n",
      "[[ 127.21329146]]\n",
      "[[ 127.07775621]]\n",
      "[[ 126.95357564]]\n",
      "[[ 126.82923247]]\n",
      "Accuracy con estandarización MIN-MAX 0.885333333333\n"
     ]
    }
   ],
   "source": [
    "X_norm = (X-np.min(X,axis=0))/(np.max(X,axis=0)-np.min(X,axis=0))\n",
    "[w1,w2,w3] = RedNeuronal(X_norm,y,alpha=0.1,epochs=20)\n",
    "\n",
    "predicted = list()\n",
    "for i in range(0,X.shape[0]):\n",
    "    predicted.append(np.argmax(Predict(X_norm[i],w1,w2,w3)))\n",
    "    \n",
    "Accuracy = np.sum(np.array(predicted) == y)/X.shape[0]\n",
    "print('Accuracy con estandarización MIN-MAX',Accuracy)"
   ]
  },
  {
   "cell_type": "markdown",
   "metadata": {},
   "source": [
    "# Estandarizando con Zscore\n",
    "$$X_{norm} = \\frac{X-\\mu}{\\sigma}$$"
   ]
  },
  {
   "cell_type": "code",
   "execution_count": 85,
   "metadata": {},
   "outputs": [
    {
     "name": "stdout",
     "output_type": "stream",
     "text": [
      "[[ 402.6437039]]\n",
      "[[ 369.32461014]]\n",
      "[[ 296.70339228]]\n",
      "[[ 169.43676866]]\n",
      "[[ 138.9072765]]\n",
      "[[ 132.76610153]]\n",
      "[[ 130.40737724]]\n",
      "[[ 129.02829189]]\n",
      "[[ 128.03153269]]\n",
      "[[ 127.24707525]]\n",
      "[[ 126.6118573]]\n",
      "[[ 126.09140238]]\n",
      "[[ 125.65947027]]\n",
      "[[ 125.29397933]]\n",
      "[[ 124.97677302]]\n",
      "[[ 124.69361421]]\n",
      "[[ 124.43379129]]\n",
      "[[ 124.18948572]]\n",
      "[[ 123.95508986]]\n",
      "[[ 123.72657969]]\n",
      "Accuracy con estandarización MIN-MAX 0.886\n"
     ]
    }
   ],
   "source": [
    "X_norm = (X-np.mean(X,axis=0))/(np.std(X,axis=0))\n",
    "[w1,w2,w3] = RedNeuronal(X_norm,y,alpha=0.1,epochs=20)\n",
    "\n",
    "predicted = list()\n",
    "for i in range(0,X.shape[0]):\n",
    "    predicted.append(np.argmax(Predict(X_norm[i],w1,w2,w3)))\n",
    "    \n",
    "Accuracy = np.sum(np.array(predicted) == y)/X.shape[0]\n",
    "print('Accuracy con estandarización MIN-MAX',Accuracy)"
   ]
  },
  {
   "cell_type": "markdown",
   "metadata": {},
   "source": [
    "## Dependiendo de los rangos de los datos, algunas estandarizaciones pueden funcionar mejor que otras. También dependiendo de la estandarización va a cambiar el alpha que sea ideal."
   ]
  },
  {
   "cell_type": "markdown",
   "metadata": {},
   "source": [
    "## Veamos como luce la frontera de división de clases"
   ]
  },
  {
   "cell_type": "code",
   "execution_count": 86,
   "metadata": {},
   "outputs": [
    {
     "data": {
      "image/png": "[encoded data removed]",
      "text/plain": [
       "<matplotlib.figure.Figure at 0x7f1d0aa7de80>"
      ]
     },
     "metadata": {},
     "output_type": "display_data"
    }
   ],
   "source": [
    "x1 = np.linspace(-20,40,1000)\n",
    "x2 = np.linspace(-1.5,1.5,100)\n",
    "x1, x2 = np.meshgrid(x1, x2,indexing='xy')\n",
    "\n",
    "x1 = x1.reshape((x1.shape[0]*x1.shape[1], 1))\n",
    "x2 = x2.reshape((x2.shape[0]*x2.shape[1], 1))\n",
    "\n",
    "plt.plot(x1,x2)\n",
    "plt.show() #Estamos llenando la superficie de puntos, para luego evaluarlos en la red neuronal\n",
    "\n",
    "Xnew = np.concatenate((x1,x2),axis=1)"
   ]
  },
  {
   "cell_type": "code",
   "execution_count": 87,
   "metadata": {
    "collapsed": true
   },
   "outputs": [],
   "source": [
    "X_norm = (Xnew-np.mean(X,axis=0))/(np.std(X,axis=0))\n",
    "predicted = list()\n",
    "for i in range(0,Xnew.shape[0]):\n",
    "    predicted.append(np.argmax(Predict(X_norm[i],w1,w2,w3)))\n",
    "\n",
    "predicted = np.array(predicted)"
   ]
  },
  {
   "cell_type": "code",
   "execution_count": 88,
   "metadata": {},
   "outputs": [
    {
     "data": {
      "image/png": "[encoded data removed]",
      "text/plain": [
       "<matplotlib.figure.Figure at 0x7f1d0aa3f748>"
      ]
     },
     "metadata": {},
     "output_type": "display_data"
    }
   ],
   "source": [
    "plt.plot(Xnew[predicted==0,0],Xnew[predicted==0,1],'.')\n",
    "plt.plot(Xnew[predicted==1,0],Xnew[predicted==1,1],'.')\n",
    "plt.plot(X[y==0,0], X[y==0,1], 'x')\n",
    "plt.plot(X[y==1,0], X[y==1,1], 'x')\n",
    "\n",
    "plt.show()"
   ]
  },
  {
   "cell_type": "markdown",
   "metadata": {},
   "source": [
    "# Cambiemos la arquitectura de la red"
   ]
  },
  {
   "cell_type": "code",
   "execution_count": 25,
   "metadata": {
    "collapsed": true
   },
   "outputs": [],
   "source": [
    "def RedNeuronal(X,y,alpha,epochs): \n",
    "    w_1 = np.random.rand(10,X.shape[1]+1) #(10) Neuronas de la capa siguiente, y en la capa actual el numero de features mas el bias\n",
    "    w_2 = np.random.rand(10,10+1) #2 Neuronas de la capa siguiente, y en la capa actual el numero de neuronas (10) mas el bias\n",
    "    w_3 = np.random.rand(3,10+1) #3 Neuronas de la capa de salida, y en la capa actual el numero de neuronas (10) mas el bias\n",
    "    \n",
    "    \n",
    "\n",
    "    for j in range(0,epochs):\n",
    "        J = 0\n",
    "        for i in range(0,X.shape[0]):\n",
    "            \n",
    "            #One hot encoding\n",
    "            Y = np.zeros(shape=(3,1))\n",
    "            Y[y[i]] = 1\n",
    "\n",
    "            #Forward\n",
    "            #Para cada muestra\n",
    "            a_1 = X[i,None].T\n",
    "            #Se agrega el bias de la capa entrada\n",
    "            a_1 = np.insert(a_1, 0, 1,axis=0) \n",
    "            z_1 = np.dot(w_1,a_1)\n",
    "            a_2 = sigmoid(z_1)\n",
    "            #Se agrega el bias de la otra capa\n",
    "            a_2 = np.insert(a_2, 0, 1,axis=0) \n",
    "            z_2 = np.dot(w_2,a_2)\n",
    "            a_3 = sigmoid(z_2)\n",
    "            #Se agrega el bias de la otra capa\n",
    "            a_3 = np.insert(a_3, 0, 1,axis=0)\n",
    "            z_3 = np.dot(w_3,a_3)\n",
    "            a_4 = sigmoid(z_3)\n",
    "\n",
    "            #Backward\n",
    "            J = J + np.dot((Y-a_4).T,(Y-a_4))\n",
    "            d_4 = (Y-a_4)*d_sigmoid(z_3)\n",
    "\n",
    "            d_3 = np.dot(w_3.T,d_4)\n",
    "            d_3 = np.delete(d_3, 0,axis=0) #Remove d_0\n",
    "            d_3 = d_3*d_sigmoid(z_2)\n",
    "\n",
    "            d_2 = np.dot(w_2.T,d_3)\n",
    "            d_2 = np.delete(d_2, 0,axis=0) #Remove d_0\n",
    "            d_2 = d_2*d_sigmoid(z_1)\n",
    "\n",
    "            DE_dw_3 = -np.dot(d_4,a_3.T)\n",
    "            DE_dw_2 = -np.dot(d_3,a_2.T)\n",
    "            DE_dw_1 = -np.dot(d_2,a_1.T)\n",
    "\n",
    "            w_3 = w_3 - alpha*DE_dw_3\n",
    "            w_2 = w_2 - alpha*DE_dw_2\n",
    "            w_1 = w_1 - alpha*DE_dw_1\n",
    "\n",
    "        print(J/2)\n",
    "    return [w_1,w_2,w_3]"
   ]
  },
  {
   "cell_type": "code",
   "execution_count": 42,
   "metadata": {
    "scrolled": true
   },
   "outputs": [
    {
     "name": "stdout",
     "output_type": "stream",
     "text": [
      "[[ 664.97660719]]\n",
      "[[ 364.53591895]]\n",
      "[[ 176.21069402]]\n",
      "[[ 139.07732656]]\n",
      "[[ 132.67852707]]\n",
      "[[ 129.76189736]]\n",
      "[[ 126.81040695]]\n",
      "[[ 121.82743266]]\n",
      "[[ 111.66700084]]\n",
      "[[ 91.90956715]]\n",
      "[[ 65.71501192]]\n",
      "[[ 43.96764909]]\n",
      "[[ 30.01649335]]\n",
      "[[ 21.58297626]]\n",
      "[[ 16.32334185]]\n",
      "[[ 12.86587606]]\n",
      "[[ 10.47658003]]\n",
      "[[ 8.75379089]]\n",
      "[[ 7.46693777]]\n",
      "[[ 6.47705275]]\n",
      "Accuracy con estandarización MIN-MAX 1.0\n"
     ]
    }
   ],
   "source": [
    "X_norm = (X-np.mean(X,axis=0))/(np.std(X,axis=0))\n",
    "[w1,w2,w3] = RedNeuronal(X_norm,y,alpha=0.1,epochs=20)\n",
    "\n",
    "predicted = list()\n",
    "for i in range(0,X.shape[0]):\n",
    "    predicted.append(np.argmax(Predict(X_norm[i],w1,w2,w3)))\n",
    "    \n",
    "Accuracy = np.sum(np.array(predicted) == y)/X.shape[0]\n",
    "print('Accuracy con estandarización MIN-MAX',Accuracy)"
   ]
  },
  {
   "cell_type": "markdown",
   "metadata": {},
   "source": [
    "# 100% de accuracy!! Obviamente estamos sobreentrenando, debemos implementar una validación cruzada o bootstraping para encontrar la mejor arquitectura"
   ]
  },
  {
   "cell_type": "markdown",
   "metadata": {},
   "source": [
    "## Veamos como luce la frontera de división de clases"
   ]
  },
  {
   "cell_type": "code",
   "execution_count": 74,
   "metadata": {},
   "outputs": [
    {
     "data": {
      "image/png": "[encoded data removed]",
      "text/plain": [
       "<matplotlib.figure.Figure at 0x7f1d0aa180b8>"
      ]
     },
     "metadata": {},
     "output_type": "display_data"
    }
   ],
   "source": [
    "x1 = np.linspace(-20,40,1000)\n",
    "x2 = np.linspace(-1.5,1.5,100)\n",
    "x1, x2 = np.meshgrid(x1, x2,indexing='xy')\n",
    "\n",
    "x1 = x1.reshape((x1.shape[0]*x1.shape[1], 1))\n",
    "x2 = x2.reshape((x2.shape[0]*x2.shape[1], 1))\n",
    "\n",
    "plt.plot(x1,x2)\n",
    "plt.show() #Estamos llenando la superficie de puntos, para luego evaluarlos en la red neuronal\n",
    "\n",
    "Xnew = np.concatenate((x1,x2),axis=1)"
   ]
  },
  {
   "cell_type": "code",
   "execution_count": 75,
   "metadata": {},
   "outputs": [],
   "source": [
    "X_norm = (Xnew-np.mean(X,axis=0))/(np.std(X,axis=0))\n",
    "predicted = list()\n",
    "for i in range(0,Xnew.shape[0]):\n",
    "    predicted.append(np.argmax(Predict(X_norm[i],w1,w2,w3)))\n",
    "\n",
    "predicted = np.array(predicted)"
   ]
  },
  {
   "cell_type": "code",
   "execution_count": 77,
   "metadata": {},
   "outputs": [
    {
     "data": {
      "image/png": "[encoded data removed]",
      "text/plain": [
       "<matplotlib.figure.Figure at 0x7f1d0aaa6080>"
      ]
     },
     "metadata": {},
     "output_type": "display_data"
    }
   ],
   "source": [
    "plt.plot(Xnew[predicted==0,0],Xnew[predicted==0,1],'.')\n",
    "plt.plot(Xnew[predicted==1,0],Xnew[predicted==1,1],'.')\n",
    "plt.plot(X[y==0,0], X[y==0,1], 'x')\n",
    "plt.plot(X[y==1,0], X[y==1,1], 'x')\n",
    "\n",
    "plt.show()"
   ]
  },
  {
   "cell_type": "code",
   "execution_count": null,
   "metadata": {},
   "outputs": [],
   "source": []
  },
  {
   "cell_type": "code",
   "execution_count": null,
   "metadata": {
    "collapsed": true
   },
   "outputs": [],
   "source": []
  }
 ],
 "metadata": {
  "kernelspec": {
   "display_name": "Python 3",
   "language": "python",
   "name": "python3"
  },
  "language_info": {
   "codemirror_mode": {
    "name": "ipython",
    "version": 3
   },
   "file_extension": ".py",
   "mimetype": "text/x-python",
   "name": "python",
   "nbconvert_exporter": "python",
   "pygments_lexer": "ipython3",
   "version": "3.6.4"
  }
 },
 "nbformat": 4,
 "nbformat_minor": 2
}
