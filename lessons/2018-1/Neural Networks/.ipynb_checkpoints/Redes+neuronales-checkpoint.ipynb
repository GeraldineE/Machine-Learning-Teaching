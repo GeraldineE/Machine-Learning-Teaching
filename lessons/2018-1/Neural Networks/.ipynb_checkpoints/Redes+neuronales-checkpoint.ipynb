{
 "cells": [
  {
   "cell_type": "code",
   "execution_count": 3,
   "metadata": {},
   "outputs": [
    {
     "data": {
      "text/plain": [
       "<matplotlib.figure.Figure at 0x1da519b4eb8>"
      ]
     },
     "metadata": {},
     "output_type": "display_data"
    }
   ],
   "source": [
    "import numpy as np\n",
    "import matplotlib.pyplot as plt\n",
    "from sklearn import datasets\n",
    "\n",
    "n_samples = 1500\n",
    "noisy_moons = datasets.make_moons(n_samples=n_samples, noise=.05)\n",
    "\n",
    "X= noisy_moons[0]\n",
    "y= noisy_moons[1]\n",
    "\n",
    "plt.plot(X[:,0], X[:,1], 'x')\n",
    "plt.show()"
   ]
  },
  {
   "cell_type": "code",
   "execution_count": 4,
   "metadata": {},
   "outputs": [],
   "source": [
    "def sigmoid(x):\n",
    "    return 1/(1+np.exp(-x))\n",
    "\n",
    "def d_sigmoid(x):\n",
    "    return sigmoid(x)*(1-sigmoid(x))\n",
    "\n",
    "def RedNeuronal(X,y,alpha,epochs): \n",
    "    w_1 = np.random.rand(2,X.shape[1]+1) #2 Neuronas de la capa siguiente, y en la capa actual el numero de features mas el bias\n",
    "    w_2 = np.random.rand(2,2+1) #2 Neuronas de la capa siguiente, y en la capa actual el numero de neuronas mas el bias\n",
    "    w_3 = np.random.rand(2,2+1) #2 Neuronas (2 clases) de la capa de salida, y en la capa actual el numero de neuronas mas el bias\n",
    "    \n",
    "    \n",
    "\n",
    "    for j in range(0,epochs):\n",
    "        J = 0\n",
    "        for i in range(0,X.shape[0]):\n",
    "            \n",
    "            #One hot encoding\n",
    "            Y = np.zeros(shape=(2,1))\n",
    "            Y[y[i]] = 1\n",
    "\n",
    "            #Forward\n",
    "            #Para cada muestra\n",
    "            a_1 = X[i,None].T\n",
    "            #Se agrega el bias de la capa entrada\n",
    "            a_1 = np.insert(a_1, 0, 1,axis=0) \n",
    "            z_1 = np.dot(w_1,a_1)\n",
    "            a_2 = sigmoid(z_1)\n",
    "            #Se agrega el bias de la otra capa\n",
    "            a_2 = np.insert(a_2, 0, 1,axis=0) \n",
    "            z_2 = np.dot(w_2,a_2)\n",
    "            a_3 = sigmoid(z_2)\n",
    "            #Se agrega el bias de la otra capa\n",
    "            a_3 = np.insert(a_3, 0, 1,axis=0)\n",
    "            z_3 = np.dot(w_3,a_3)\n",
    "            a_4 = sigmoid(z_3)\n",
    "\n",
    "            #Backward\n",
    "            J = J + np.dot((Y-a_4).T,(Y-a_4))\n",
    "            d_4 = (Y-a_4)*d_sigmoid(z_3)\n",
    "\n",
    "            d_3 = np.dot(w_3.T,d_4)\n",
    "            d_3 = np.delete(d_3, 0,axis=0) #Remove d_0\n",
    "            d_3 = d_3*d_sigmoid(z_2)\n",
    "\n",
    "            d_2 = np.dot(w_2.T,d_3)\n",
    "            d_2 = np.delete(d_2, 0,axis=0) #Remove d_0\n",
    "            d_2 = d_2*d_sigmoid(z_1)\n",
    "\n",
    "            DE_dw_3 = -np.dot(d_4,a_3.T)\n",
    "            DE_dw_2 = -np.dot(d_3,a_2.T)\n",
    "            DE_dw_1 = -np.dot(d_2,a_1.T)\n",
    "\n",
    "            w_3 = w_3 - alpha*DE_dw_3\n",
    "            w_2 = w_2 - alpha*DE_dw_2\n",
    "            w_1 = w_1 - alpha*DE_dw_1\n",
    "\n",
    "        print(J/2)\n",
    "    return [w_1,w_2,w_3]\n",
    "\n",
    "def Predict(X,w_1,w_2,w_3): \n",
    "    #Forward\n",
    "    #Para cada muestra\n",
    "    a_1 = X[:,None]\n",
    "    #Se agrega el bias de la capa entrada\n",
    "    a_1 = np.insert(a_1, 0, 1,axis=0) \n",
    "    z_1 = np.dot(w_1,a_1)\n",
    "    a_2 = sigmoid(z_1)\n",
    "    #Se agrega el bias de la otra capa\n",
    "    a_2 = np.insert(a_2, 0, 1,axis=0) \n",
    "    z_2 = np.dot(w_2,a_2)\n",
    "    a_3 = sigmoid(z_2)\n",
    "    #Se agrega el bias de la otra capa\n",
    "    a_3 = np.insert(a_3, 0, 1,axis=0)\n",
    "    z_3 = np.dot(w_3,a_3)\n",
    "    a_4 = sigmoid(z_3)\n",
    "    return a_4"
   ]
  },
  {
   "cell_type": "code",
   "execution_count": 5,
   "metadata": {},
   "outputs": [
    {
     "name": "stdout",
     "output_type": "stream",
     "text": [
      "[[384.69699304]]\n",
      "[[377.16112526]]\n",
      "[[374.95087055]]\n",
      "[[355.14413259]]\n",
      "[[244.46378661]]\n",
      "[[157.60450309]]\n",
      "[[135.51856769]]\n",
      "[[129.93841128]]\n",
      "[[128.03083119]]\n",
      "[[127.20027249]]\n",
      "[[126.7562156]]\n",
      "[[126.46947933]]\n",
      "[[126.25246934]]\n",
      "[[126.06854453]]\n",
      "[[125.90145219]]\n",
      "[[125.74367983]]\n",
      "[[125.59161821]]\n",
      "[[125.44343273]]\n",
      "[[125.29809333]]\n",
      "[[125.15492613]]\n"
     ]
    }
   ],
   "source": [
    "[w1,w2,w3] = RedNeuronal(X,y,alpha=0.1,epochs=20)"
   ]
  },
  {
   "cell_type": "code",
   "execution_count": 10,
   "metadata": {},
   "outputs": [
    {
     "data": {
      "text/plain": [
       "0"
      ]
     },
     "execution_count": 10,
     "metadata": {},
     "output_type": "execute_result"
    }
   ],
   "source": [
    "Predict(X[0],w1,w2,w3)\n",
    "np.argmax(Predict(X[0],w1,w2,w3))\n",
    "y"
   ]
  },
  {
   "cell_type": "code",
   "execution_count": 11,
   "metadata": {},
   "outputs": [],
   "source": [
    "predicted = list()\n",
    "for i in range(0,X.shape[0]):\n",
    "    predicted.append(np.argmax(Predict(X[i],w1,w2,w3)))"
   ]
  },
  {
   "cell_type": "code",
   "execution_count": 12,
   "metadata": {},
   "outputs": [
    {
     "name": "stdout",
     "output_type": "stream",
     "text": [
      "0.8873333333333333\n"
     ]
    }
   ],
   "source": [
    "Accuracy = np.sum(np.array(predicted) == y)/X.shape[0]\n",
    "print(Accuracy)"
   ]
  },
  {
   "cell_type": "code",
   "execution_count": null,
   "metadata": {
    "collapsed": true
   },
   "outputs": [],
   "source": []
  }
 ],
 "metadata": {
  "kernelspec": {
   "display_name": "Python 3",
   "language": "python",
   "name": "python3"
  },
  "language_info": {
   "codemirror_mode": {
    "name": "ipython",
    "version": 3
   },
   "file_extension": ".py",
   "mimetype": "text/x-python",
   "name": "python",
   "nbconvert_exporter": "python",
   "pygments_lexer": "ipython3",
   "version": "3.6.4"
  }
 },
 "nbformat": 4,
 "nbformat_minor": 2
}
